{
  "cells": [
    {
      "cell_type": "markdown",
      "metadata": {
        "id": "view-in-github",
        "colab_type": "text"
      },
      "source": [
        "<a href=\"https://colab.research.google.com/github/harishk1998/HarishBabu_INFO5731_Fall2024/blob/main/Kancharla_HarishBabu_Exercise_01.ipynb\" target=\"_parent\"><img src=\"https://colab.research.google.com/assets/colab-badge.svg\" alt=\"Open In Colab\"/></a>"
      ]
    },
    {
      "cell_type": "markdown",
      "metadata": {
        "id": "DymRJbxDBCnf"
      },
      "source": [
        "# **INFO5731 Exercise 1**\n",
        "\n",
        "This exercise covers a variety of fundamental concepts in Python and is designed to help students improve their coding skills and problem-solving abilities.\n",
        "\n",
        "**Expectations**:\n",
        "*   Students are expected to complete the exercise during lecture period to meet the active participation criteria of the course.\n",
        "*   Use the provided .*ipynb* document to write your code & respond to the questions. Avoid generating a new file.\n",
        "*   Write complete answers and run all the cells before submission.\n",
        "*   Make sure the submission is \"clean\"; *i.e.*, no unnecessary code cells.\n",
        "*   Once finished, allow shared rights from top right corner (*see Canvas for details*).\n",
        "\n",
        "**Total points**: 40\n",
        "\n",
        "**Deadline**: This in-class exercise is due at the end of the day tomorrow, at 11:59 PM.\n",
        "\n",
        "**Late submissions cannot be considered, and no requests will be answered. Manage your time accordingly.**\n"
      ]
    },
    {
      "cell_type": "markdown",
      "source": [
        "## Question 1\n",
        "Write a Python program that  prompts the user to input the length and width of a rectangle, and then calculates and displays the area of the rectangle."
      ],
      "metadata": {
        "id": "FBKvD6O_TY6e"
      }
    },
    {
      "cell_type": "code",
      "source": [
        "# write your answer here\n",
        "length = int(input(\"Enter the length of recatnagle:\"))\n",
        "width = int(input(\"Enter the width of rectangle:\"))\n",
        "area = length * width\n",
        "print(\"The area of the rectangle is :\",area)"
      ],
      "metadata": {
        "id": "cikVKDXdTbzE",
        "colab": {
          "base_uri": "https://localhost:8080/"
        },
        "outputId": "2d726c97-52be-4f2f-ae35-7fdff47d3285"
      },
      "execution_count": null,
      "outputs": [
        {
          "output_type": "stream",
          "name": "stdout",
          "text": [
            "Enter the length of recatnagle:8\n",
            "Enter the width of rectangle:4\n",
            "The area of the rectangle is : 32\n"
          ]
        }
      ]
    },
    {
      "cell_type": "markdown",
      "source": [
        "## Question 2\n",
        "Create a Python program that interactively takes two numerical inputs from the user and swaps their values without utilizing an extra variable."
      ],
      "metadata": {
        "id": "E9RqrlwdTfvl"
      }
    },
    {
      "cell_type": "code",
      "source": [
        "# write your answer here\n",
        "a=int(input('a:'))\n",
        "b=int(input('b:'))\n",
        "a,b=b,a\n",
        "print('a,b:', a,b)"
      ],
      "metadata": {
        "id": "4XvRknixTh1g",
        "colab": {
          "base_uri": "https://localhost:8080/"
        },
        "outputId": "115b5f89-1b85-4581-ccb4-024595ef3922"
      },
      "execution_count": null,
      "outputs": [
        {
          "output_type": "stream",
          "name": "stdout",
          "text": [
            "a:7\n",
            "b:8\n",
            "a,b: 8 7\n"
          ]
        }
      ]
    },
    {
      "cell_type": "markdown",
      "metadata": {
        "id": "03jb4GZsBkBS"
      },
      "source": [
        "## Question 3\n",
        "Write a Python script to determine and print the length of a user-input string."
      ]
    },
    {
      "cell_type": "code",
      "execution_count": null,
      "metadata": {
        "id": "YaGLbSHHB8Ej",
        "colab": {
          "base_uri": "https://localhost:8080/"
        },
        "outputId": "fcc00b7f-0fe7-40d0-a8e9-da7e47428844"
      },
      "outputs": [
        {
          "output_type": "stream",
          "name": "stdout",
          "text": [
            "Enter a string:hello\n",
            "5\n"
          ]
        }
      ],
      "source": [
        "# write your answer here\n",
        "s=input(\"Enter a string:\")\n",
        "print(len(s))\n"
      ]
    },
    {
      "cell_type": "markdown",
      "metadata": {
        "id": "jJDe71iLB616"
      },
      "source": [
        "## Question 4\n",
        "Construct a Python program that counts and displays the occurrences of each character in a given string.\n",
        "\n",
        "Sample String: 'openai.ai',\n",
        "\n",
        "Expected Result: {'a': 2, 'i': 2, '.': 1, 'o': 1, 'p': 1, 'e': 1, 'n': 1}"
      ]
    },
    {
      "cell_type": "code",
      "execution_count": null,
      "metadata": {
        "id": "MtKskTzbCLaU",
        "colab": {
          "base_uri": "https://localhost:8080/"
        },
        "outputId": "0b1f6b5b-d9ab-45a8-ec0d-c2af7f576080"
      },
      "outputs": [
        {
          "output_type": "stream",
          "name": "stdout",
          "text": [
            "Enter a string:openai.ai\n",
            "{'o': 1, 'p': 1, 'e': 1, 'i': 2, 'n': 1, 'a': 2}\n"
          ]
        }
      ],
      "source": [
        "# write your answer here\n",
        "s= input(\"Enter a string:\")\n",
        "s1 = set(s)\n",
        "d={}\n",
        "for i in s1:\n",
        "  if i.isalpha():\n",
        "    b= s.count(i)\n",
        "    d[i] = b\n",
        "print(d)\n"
      ]
    },
    {
      "cell_type": "markdown",
      "metadata": {
        "id": "55W9AMdXCSpV"
      },
      "source": [
        "## Question 5\n",
        "Design a Python code to calculate the sum of all elements in a user-provided list."
      ]
    },
    {
      "cell_type": "code",
      "execution_count": null,
      "metadata": {
        "id": "I57NXsauCec2",
        "colab": {
          "base_uri": "https://localhost:8080/"
        },
        "outputId": "f45426ac-d5ce-486e-e0e5-2c8d2411022b"
      },
      "outputs": [
        {
          "output_type": "stream",
          "name": "stdout",
          "text": [
            "21\n"
          ]
        }
      ],
      "source": [
        "# write your answer here\n",
        "l=[1,2,3,4,5,6]\n",
        "print(sum(l))\n"
      ]
    },
    {
      "cell_type": "markdown",
      "metadata": {
        "id": "4ulBZ6yhCi9F"
      },
      "source": [
        "## Question 6\n",
        "Write a Python program that modifies a given string by replacing all occurrences of its first character with '$', excluding the first character itself.\n",
        "\n",
        "\n",
        "Sample String : 'restart‘\n",
        "Expected Result : 'resta\\$t'"
      ]
    },
    {
      "cell_type": "code",
      "execution_count": null,
      "metadata": {
        "id": "Fj0XhwbBCw2o",
        "colab": {
          "base_uri": "https://localhost:8080/"
        },
        "outputId": "a50311f4-3383-4c74-b0b5-44459027d223"
      },
      "outputs": [
        {
          "output_type": "stream",
          "name": "stdout",
          "text": [
            "Enter the string:hello\n",
            "enter a character to replacel\n",
            "enter the character with which to replace%\n",
            "hel%o\n"
          ]
        }
      ],
      "source": [
        "# write your answer here\n",
        "s=input(\"Enter the string:\")\n",
        "c = input(\"enter a character to replace\")\n",
        "c1 = input(\"enter the character with which to replace\")\n",
        "count = 0\n",
        "a = s.find(c)\n",
        "s1= s[a+1::].replace(c,c1)\n",
        "print(s[0:a+1]+ s1)\n"
      ]
    },
    {
      "cell_type": "markdown",
      "source": [
        "## Question 7\n",
        "Write a Python program using a while loop to compute the factorial of a user-supplied number."
      ],
      "metadata": {
        "id": "qVXA3q7ET5JI"
      }
    },
    {
      "cell_type": "code",
      "source": [
        "# write your answer here\n",
        "a=int(input(\"enter a number:\"))\n",
        "a1=1\n",
        "if a ==0 or a ==1:\n",
        "  print(1)\n",
        "while a>0:\n",
        "  a1 = a1*a\n",
        "  a=a-1\n",
        "print(a1)"
      ],
      "metadata": {
        "id": "Lbt7R6UkT7BA",
        "colab": {
          "base_uri": "https://localhost:8080/"
        },
        "outputId": "d29f2c72-d1d7-4fed-bfec-c7d417d898a0"
      },
      "execution_count": null,
      "outputs": [
        {
          "output_type": "stream",
          "name": "stdout",
          "text": [
            "enter a number6\n",
            "720\n"
          ]
        }
      ]
    },
    {
      "cell_type": "markdown",
      "source": [
        "## Question 8\n",
        "Create a program that accepts a list of numbers as input and outputs a new list containing only the even numbers."
      ],
      "metadata": {
        "id": "6YfbzXMNT--R"
      }
    },
    {
      "cell_type": "code",
      "source": [
        "# write your answer here\n",
        "a = int(input(\"enter the length of the list:\"))\n",
        "b = []\n",
        "b1=[]\n",
        "for i in range(0,a+1):\n",
        "  n = int(input(\"Enter the numbers to put in list:\"))\n",
        "  b.append(n)\n",
        "for i in b:\n",
        "  if i%2 ==0:\n",
        "    b1.append(i)\n",
        "print(b1)"
      ],
      "metadata": {
        "id": "54q7wMQPUAKu",
        "colab": {
          "base_uri": "https://localhost:8080/"
        },
        "outputId": "09241bea-f0b0-4b7f-86ad-b30330a8b2bb"
      },
      "execution_count": null,
      "outputs": [
        {
          "output_type": "stream",
          "name": "stdout",
          "text": [
            "enter the length of the list:6\n",
            "Enter the numbers to put in list:1\n",
            "Enter the numbers to put in list:2\n",
            "Enter the numbers to put in list:3\n",
            "Enter the numbers to put in list:4\n",
            "Enter the numbers to put in list:5\n",
            "Enter the numbers to put in list:6\n",
            "Enter the numbers to put in list:7\n",
            "[2, 4, 6]\n"
          ]
        }
      ]
    },
    {
      "cell_type": "markdown",
      "metadata": {
        "id": "_bIP7s1MCzue"
      },
      "source": [
        "## Question 9\n",
        "Design a Python function to check if a number is prime.\n"
      ]
    },
    {
      "cell_type": "code",
      "execution_count": null,
      "metadata": {
        "id": "w79QilHXD3Mg",
        "colab": {
          "base_uri": "https://localhost:8080/"
        },
        "outputId": "ee7fec5c-66ea-45b7-d940-eec471e5bb98"
      },
      "outputs": [
        {
          "output_type": "stream",
          "name": "stdout",
          "text": [
            "enter a number : 7\n",
            "the given number is prime\n"
          ]
        }
      ],
      "source": [
        "# write your answer here\n",
        "a = int(input(\"enter a number : \"))\n",
        "if a==1:\n",
        "  print(\"the given number is not prime\")\n",
        "elif a==2 or a==3:\n",
        "  print(\"the given number is prime\")\n",
        "elif a>3 and a%2 !=0 and a%3 !=0:\n",
        "  print(\"the given number is prime\")\n",
        "else:\n",
        "  print(\"the given number is not a prime number\")\n"
      ]
    },
    {
      "cell_type": "markdown",
      "metadata": {
        "id": "xCa2bK9aD4Q3"
      },
      "source": [
        "## Question 10\n",
        "Write a Python program to concatenate following dictionaries to create a new one.\n",
        "\n",
        "Sample Dictionary : dic1={1:10, 2:20}, dic2={3:30, 4:40}, dic3={5:50,6:60},\n",
        "\n",
        "Expected Result : {1: 10, 2: 20, 3: 30, 4: 40, 5: 50, 6: 60}\n"
      ]
    },
    {
      "cell_type": "code",
      "execution_count": null,
      "metadata": {
        "id": "_z4aLqAbEET1",
        "colab": {
          "base_uri": "https://localhost:8080/"
        },
        "outputId": "7bba6090-3476-4931-c982-833592f5e440"
      },
      "outputs": [
        {
          "output_type": "stream",
          "name": "stdout",
          "text": [
            "{1: 10, 2: 20, 3: 30, 4: 40, 5: 50, 6: 60}\n"
          ]
        }
      ],
      "source": [
        "# write your answer here\n",
        "d={1:10,2:20}\n",
        "d1={3:30,4:40}\n",
        "d2 = {5:50,6:60}\n",
        "d3 = d| d1 | d2\n",
        "print(d3)\n"
      ]
    },
    {
      "cell_type": "markdown",
      "source": [
        "## Question 11\n",
        "Design a Python function that takes a tuple of integers as input and returns the largest and smallest elements."
      ],
      "metadata": {
        "id": "bkyZ2xSZUOst"
      }
    },
    {
      "cell_type": "code",
      "source": [
        "# write your answer here\n",
        "a = int(input(\"Enter the lenght of tuple\"))\n",
        "t=()\n",
        "for i in range(0,a+1):\n",
        "  n = int(input(\"Enter the elements:\"))\n",
        "  t = t+ (n,)\n",
        "print(\"the max element of the tuple:\",max(t))\n",
        "print(\"The minimum element of the tuple:\",min(t))\n"
      ],
      "metadata": {
        "id": "3FdLRBKOUQEd",
        "colab": {
          "base_uri": "https://localhost:8080/"
        },
        "outputId": "6a48f885-ab10-49d8-8db3-13ae5865a4cc"
      },
      "execution_count": null,
      "outputs": [
        {
          "output_type": "stream",
          "name": "stdout",
          "text": [
            "Enter the lenght of tuple4\n",
            "Enter the elements:1\n",
            "Enter the elements:2\n",
            "Enter the elements:3\n",
            "Enter the elements:4\n",
            "Enter the elements:5\n",
            "the max element of the tuple: 5\n",
            "The minimum element of the tuple: 1\n"
          ]
        }
      ]
    },
    {
      "cell_type": "markdown",
      "source": [
        "## Question 12\n",
        "Write a Python program that counts the frequency of each character in a given string and stores it in a dictionary."
      ],
      "metadata": {
        "id": "O0TVi3gKUTpp"
      }
    },
    {
      "cell_type": "code",
      "source": [
        "# write your answer here\n",
        "a= input(\"Enter the string:\")\n",
        "d={}\n",
        "a1=''\n",
        "for i in a:\n",
        "  if i not in a1:\n",
        "    a1 = a1+i\n",
        "for i in a1:\n",
        "  b= a.count(i)\n",
        "  d[i]=b\n",
        "print(d)"
      ],
      "metadata": {
        "id": "lAtfSfZXUU-h",
        "colab": {
          "base_uri": "https://localhost:8080/"
        },
        "outputId": "01ff75f1-1fbf-408a-c6b6-c4f3ff61fa35"
      },
      "execution_count": null,
      "outputs": [
        {
          "output_type": "stream",
          "name": "stdout",
          "text": [
            "Enter the string:hello\n",
            "{'h': 1, 'e': 1, 'l': 2, 'o': 1}\n"
          ]
        }
      ]
    },
    {
      "cell_type": "markdown",
      "metadata": {
        "id": "0v48Vqa7FrQh"
      },
      "source": [
        "## Question 13\n",
        "Implement a Python script to identify duplicate elements in a provided array of integers. Return -1 if there are no duplicates."
      ]
    },
    {
      "cell_type": "code",
      "execution_count": 3,
      "metadata": {
        "id": "7WEmgq-DF2P1",
        "colab": {
          "base_uri": "https://localhost:8080/"
        },
        "outputId": "9bf4826d-41c5-44bf-a9db-fe0f26d23e8c"
      },
      "outputs": [
        {
          "output_type": "stream",
          "name": "stdout",
          "text": [
            "Enter the length of the array:5\n",
            "Enter the number:1\n",
            "Enter the number:2\n",
            "Enter the number:3\n",
            "Enter the number:4\n",
            "Enter the number:5\n",
            "There are no duplicate elements -1\n"
          ]
        }
      ],
      "source": [
        "# write your answer here\n",
        "l=[]\n",
        "n=int(input(\"Enter the length of the array:\"))\n",
        "for i in range(0,n):\n",
        "  a= int(input(\"Enter the number:\"))\n",
        "  l.append(a)\n",
        "s= set(l)\n",
        "l1=[]\n",
        "for i in s:\n",
        "  if l.count(i) > 1:\n",
        "    l1.append(i)\n",
        "if len(l1) >0:\n",
        "  print(\"There are duplicat elements in the array\",l1)\n",
        "else:\n",
        "  print(\"There are no duplicate elements\",-1)\n"
      ]
    },
    {
      "cell_type": "markdown",
      "metadata": {
        "id": "vD5PYLMuGga_"
      },
      "source": [
        "## Question 14\n",
        "Write a Python script to find the common elements between two lists."
      ]
    },
    {
      "cell_type": "code",
      "execution_count": 4,
      "metadata": {
        "id": "t0D5kdJUGjjw",
        "colab": {
          "base_uri": "https://localhost:8080/"
        },
        "outputId": "466d7ba9-ca37-4480-e0f7-d3e5d1eda002"
      },
      "outputs": [
        {
          "output_type": "stream",
          "name": "stdout",
          "text": [
            "[2, 3, 4]\n"
          ]
        }
      ],
      "source": [
        "# write your answer here\n",
        "l1=[1,2,3,4]\n",
        "l2=[2,3,4,5]\n",
        "l3=[]\n",
        "for i in l1:\n",
        "  if i in l2:\n",
        "    l3.append(i)\n",
        "print(l3)\n",
        "\n"
      ]
    },
    {
      "cell_type": "markdown",
      "metadata": {
        "id": "uHkd-y5VhVWC"
      },
      "source": [
        "## Question 15\n",
        "Write a Python program to randomly divide the students in this class into maximum of eight groups for term projects, each group should have at least 4 students but no more than 6 students (including 6).\n",
        "\n",
        "Here is the students list:\n",
        "\n",
        "student_list_spring_2024=[rb0846,\n",
        "ac1964,\n",
        "hc0612,\n",
        "md0912,\n",
        "ad1198,\n",
        "md0894,\n",
        "md0825,\n",
        "vg0598,\n",
        "vg0433,\n",
        "mh1068,\n",
        "yj0173,\n",
        "pk0553,\n",
        "tk0411,\n",
        "srk0204,\n",
        "sk2922,\n",
        "sk2936,\n",
        "mk1302,\n",
        "mk1317,\n",
        "tk0412,\n",
        "vk0656,\n",
        "sm2985,\n",
        "mm2372,\n",
        "un0045,\n",
        "an0892,\n",
        "sn0913,\n",
        "gp0252,\n",
        "ap1484,\n",
        "mr1765,\n",
        "sr1385,\n",
        "sr1335,\n",
        "hs0665,\n",
        "ms2060,\n",
        "gt0217,\n",
        "nt0385,\n",
        "tv0186,\n",
        "sv1394,\n",
        "sv1752,\n",
        "sv1555,\n",
        "sy0594\n",
        "]\n"
      ]
    },
    {
      "cell_type": "code",
      "execution_count": 10,
      "metadata": {
        "id": "3iGbmcOBhTwy",
        "colab": {
          "base_uri": "https://localhost:8080/"
        },
        "outputId": "398b6f7c-ec21-4657-8db0-1abb6396ff5d"
      },
      "outputs": [
        {
          "output_type": "stream",
          "name": "stdout",
          "text": [
            "Group 1: ['rb0846', 'ac1964', 'hc0612', 'md0912']\n",
            "Group 2: ['ad1198', 'md0894', 'md0825', 'vg0598', 'vg0433']\n",
            "Group 3: ['mh1068', 'yj0173', 'pk0553', 'tk0411', 'srk0204', 'sk2922']\n",
            "Group 4: ['sk2936', 'mk1302', 'mk1317', 'tk0412', 'vk0656', 'sm2985']\n",
            "Group 5: ['mm2372', 'un0045', 'an0892', 'sn0913']\n",
            "Group 6: ['gp0252', 'ap1484', 'mr1765', 'sr1385']\n",
            "Group 7: ['sr1335', 'hs0665', 'ms2060', 'gt0217']\n",
            "Group 8: ['nt0385', 'tv0186', 'sv1394', 'sv1752', 'sv1555', 'sy0594']\n"
          ]
        }
      ],
      "source": [
        "import random\n",
        "\n",
        "student_list_spring_2024 = [\n",
        "    'rb0846', 'ac1964', 'hc0612', 'md0912', 'ad1198', 'md0894', 'md0825', 'vg0598', 'vg0433', 'mh1068',\n",
        "    'yj0173', 'pk0553', 'tk0411', 'srk0204', 'sk2922', 'sk2936', 'mk1302', 'mk1317', 'tk0412', 'vk0656',\n",
        "    'sm2985', 'mm2372', 'un0045', 'an0892', 'sn0913', 'gp0252', 'ap1484', 'mr1765', 'sr1385', 'sr1335',\n",
        "    'hs0665', 'ms2060', 'gt0217', 'nt0385', 'tv0186', 'sv1394', 'sv1752', 'sv1555', 'sy0594'\n",
        "]\n",
        "\n",
        "max_length = 6\n",
        "min_length = 4\n",
        "n = len(student_list_spring_2024)\n",
        "groups = []\n",
        "\n",
        "while n > 0 and len(groups) < 8:\n",
        "    if n <= max_length:\n",
        "        group_size = n\n",
        "    else:\n",
        "        group_size = random.randint(min_length, max_length)\n",
        "    group = student_list_spring_2024[:group_size]\n",
        "    groups.append(group)\n",
        "    student_list_spring_2024 = student_list_spring_2024[group_size:]\n",
        "    n = len(student_list_spring_2024)\n",
        "\n",
        "if n > 0:\n",
        "    for i in range(n):\n",
        "        groups[i % len(groups)].append(student_list_spring_2024[i])\n",
        "\n",
        "for i, group in enumerate(groups, 1):\n",
        "    print(f\"Group {i}: {group}\")\n",
        "\n",
        "\n",
        "if len(groups) > 8:\n",
        "    print(\"Error: More than 8 groups were created.\")\n"
      ]
    },
    {
      "cell_type": "markdown",
      "metadata": {
        "id": "fmZ9vX20Qs3d"
      },
      "source": [
        "## Question 16\n",
        "Create a program that takes a positive integer 'n' as input and prints the count of even numbers from 1 to 'n'. Optimize the loop using the continue statement."
      ]
    },
    {
      "cell_type": "code",
      "execution_count": 18,
      "metadata": {
        "id": "W8Jw6sWMQs3d",
        "colab": {
          "base_uri": "https://localhost:8080/"
        },
        "outputId": "07ebba5d-8c48-4344-8127-951f2ea30304"
      },
      "outputs": [
        {
          "output_type": "stream",
          "name": "stdout",
          "text": [
            "Enter the positive number:5\n",
            "6\n"
          ]
        }
      ],
      "source": [
        "# write your answer here\n",
        "n= int(input(\"Enter the positive number:\"))\n",
        "a=0\n",
        "if n >0:\n",
        "  for i in range(0,n+1):\n",
        "    if i%2==0:\n",
        "      a=a+i\n",
        "      continue\n",
        "print(a)\n",
        "\n"
      ]
    },
    {
      "cell_type": "markdown",
      "metadata": {
        "id": "hvq4APMhQs3d"
      },
      "source": [
        "## Question 17\n",
        "Develop a Python function called 'count_vowels' that takes a string as input and returns the count of vowels (both lowercase and uppercase) present in the string, ignoring spaces and non-alphabetic characters."
      ]
    },
    {
      "cell_type": "code",
      "execution_count": 20,
      "metadata": {
        "id": "ZnoxhSglQs3d",
        "colab": {
          "base_uri": "https://localhost:8080/"
        },
        "outputId": "6dd74af5-0496-453b-a40c-9a799bb9434d"
      },
      "outputs": [
        {
          "output_type": "stream",
          "name": "stdout",
          "text": [
            "Enter the string:hi hello how are you\n",
            "{'a': 1, 'e': 2, 'i': 1, 'o': 3, 'u': 1}\n"
          ]
        }
      ],
      "source": [
        "# write your answer here\n",
        "s=input(\"Enter the string:\")\n",
        "l=['a','e','i','o','u']\n",
        "d={}\n",
        "s1=s.lower()\n",
        "for i in l:\n",
        "  if i in s:\n",
        "    d[i]=s.count(i)\n",
        "print(d)"
      ]
    },
    {
      "cell_type": "markdown",
      "source": [
        "## Question 18\n",
        "Create a custom exception named ValueTooSmallError in Python. Write a program that takes user input for an age, and if the entered age is less than 18, raise the ValueTooSmallError with an appropriate error message."
      ],
      "metadata": {
        "id": "55FWoSJPVVM6"
      }
    },
    {
      "cell_type": "code",
      "source": [
        "# write your answer here\n",
        "def age(n):\n",
        "  if n<18:\n",
        "    raise ValueTooSmallError(\"The age is less than 18\")\n",
        "  return n\n",
        "try:\n",
        "  a = int(input(\"Enter age:\"))\n",
        "  age(n=a)\n",
        "  print(\"the age is over 18\")\n",
        "except Exception as ValueTooSmallError:\n",
        "  print('ValueTooSmallError')\n"
      ],
      "metadata": {
        "id": "hwtr1wZmVX5A",
        "colab": {
          "base_uri": "https://localhost:8080/"
        },
        "outputId": "6de38531-0cdf-4ef8-b7c4-c95f34f7ead6"
      },
      "execution_count": 30,
      "outputs": [
        {
          "output_type": "stream",
          "name": "stdout",
          "text": [
            "Enter age:18\n",
            "the age is over 18\n"
          ]
        }
      ]
    },
    {
      "cell_type": "markdown",
      "source": [
        "## Question 19\n",
        "Develop a script that reverses a given string without using built-in reverse functions."
      ],
      "metadata": {
        "id": "Q9ecagcaVazW"
      }
    },
    {
      "cell_type": "code",
      "source": [
        "# write your answer here\n",
        "s=input(\"Enter a string\")\n",
        "print(\"The reversal of the sting is:\",s[::-1])\n"
      ],
      "metadata": {
        "id": "gycgckoAVZjR",
        "colab": {
          "base_uri": "https://localhost:8080/"
        },
        "outputId": "bc2dca2a-d07a-4778-b027-7a3284c78c4c"
      },
      "execution_count": 31,
      "outputs": [
        {
          "output_type": "stream",
          "name": "stdout",
          "text": [
            "Enter a stringhello\n",
            "The reversal of the sting is: olleh\n"
          ]
        }
      ]
    },
    {
      "cell_type": "markdown",
      "source": [
        "## Question 20\n",
        "Implement a Python script to generate a random password of a specified length."
      ],
      "metadata": {
        "id": "ZFG6RibifMLu"
      }
    },
    {
      "cell_type": "code",
      "source": [
        "# write your answer here\n",
        "import random\n",
        "import string\n",
        "n = int(input(\"Enter the specific lenght for the passsword:\"))\n",
        "characters = string.ascii_letters + string.digits + string.punctuation\n",
        "password = ''.join(random.choice(characters) for i in range(n))\n",
        "print(password)\n",
        "\n",
        "\n"
      ],
      "metadata": {
        "id": "BFVrkEi9fNiD",
        "colab": {
          "base_uri": "https://localhost:8080/"
        },
        "outputId": "3b54f850-6341-45a1-d3a8-e5fcaeb60964"
      },
      "execution_count": 34,
      "outputs": [
        {
          "output_type": "stream",
          "name": "stdout",
          "text": [
            "Enter the specific lenght for the passsword:8\n",
            "$(isdDkO\n"
          ]
        }
      ]
    },
    {
      "cell_type": "markdown",
      "source": [
        "# Try these questions"
      ],
      "metadata": {
        "id": "6SmvS7nSfbj8"
      }
    },
    {
      "cell_type": "markdown",
      "source": [
        "(21) Define a base class called 'Vehicle' with attributes make and model. Create a derived class Car that inherits from Vehicle and has an additional attribute 'num_doors'. Demonstrate an example of creating an instance of the 'Car' class and accessing its attributes."
      ],
      "metadata": {
        "id": "cboAr5pEWUf5"
      }
    },
    {
      "cell_type": "code",
      "source": [
        "# write your answer here\n"
      ],
      "metadata": {
        "id": "phs9gciMWWAW"
      },
      "execution_count": null,
      "outputs": []
    },
    {
      "cell_type": "markdown",
      "source": [
        "(22) Create a class called 'Shape' with a method calculate_area(). Implement two derived classes 'Circle' and 'Rectangle' that inherit from Shape and override the calculate_area() method. Demonstrate polymorphism by creating instances of both derived classes and calling the calculate_area() method."
      ],
      "metadata": {
        "id": "J8HHefNtePwd"
      }
    },
    {
      "cell_type": "code",
      "source": [
        "# write your answer here"
      ],
      "metadata": {
        "id": "btnMmUZDeRhS"
      },
      "execution_count": null,
      "outputs": []
    },
    {
      "cell_type": "markdown",
      "source": [
        "(23) Write a Python program that prompts the user to enter two numbers and perform a division operation. Handle exceptions for both zero division and invalid input (non-numeric input). Display appropriate error messages for each type of exception and ensure the program does not crash due to these errors."
      ],
      "metadata": {
        "id": "z0oqEAlTeMUS"
      }
    },
    {
      "cell_type": "code",
      "source": [
        "# write your answer here"
      ],
      "metadata": {
        "id": "yjdc1zM1eMAs"
      },
      "execution_count": null,
      "outputs": []
    },
    {
      "cell_type": "markdown",
      "source": [
        "# Mandatory Question"
      ],
      "metadata": {
        "id": "sZOhks1dXWEe"
      }
    },
    {
      "cell_type": "markdown",
      "source": [
        "**Important:**\n",
        "Reflecting on the first three lectures and the exercises you've completed, please provide feedback on your learning experience. Share your thoughts on whether the material covered was clear, the exercises were helpful, and if you feel more confident in applying Python programming concepts. Additionally, mention any specific areas where you would like more clarification or topics you would like to explore further in future lectures. Your feedback is valuable in shaping the course for an effective learning journey."
      ],
      "metadata": {
        "id": "eqmHVEwaWhbV"
      }
    },
    {
      "cell_type": "code",
      "source": [
        "'''\n",
        "Write your response here.\n",
        "\n",
        "The first three classes covered content that was quite clear. The background and wide range of applications of Python in web development, data analysis, and natural language processing were covered in an engaging and instructive introduction to the language.\n",
        "However, I felt that the section on the practical applications of Python in fields like scientific computing and web scraping was a little brief. Comprehensive examples or case studies could enhance understanding.\n",
        "\n",
        "Applying the ideas covered in the lectures was made easier by the activities. They gave a solid basis for comprehending the capabilities and range of uses of Python.\n",
        "To further reinforce the concepts, it would be helpful to incorporate tasks that incorporate real-world events or projects, like building a tiny web scraper or completing a data analysis work.\n",
        "\n",
        "I now have more assurance when it comes to the fundamentals of Python programming and its many uses, such as data analysis and web development.\n",
        "I would like to improve my confidence in a few areas, especially when it comes to using advanced libraries and frameworks like Pandas for data analysis and Scikit-learn for machine learning.\n",
        "\n",
        "More information is needed on complex subjects like machine learning libraries (like TensorFlow and Scikit-learn) and how they are used in real-world scenarios.\n",
        "It would be helpful to put more emphasis on Python modules for data analysis and visualisation and provide more thorough instructions on how to utilise them.\n",
        "\n",
        "'''"
      ],
      "metadata": {
        "id": "akAVJn9YBTQT"
      },
      "execution_count": null,
      "outputs": []
    }
  ],
  "metadata": {
    "colab": {
      "provenance": [],
      "collapsed_sections": [
        "FBKvD6O_TY6e",
        "E9RqrlwdTfvl",
        "03jb4GZsBkBS",
        "jJDe71iLB616",
        "55W9AMdXCSpV",
        "4ulBZ6yhCi9F",
        "6SmvS7nSfbj8",
        "sZOhks1dXWEe"
      ],
      "include_colab_link": true
    },
    "kernelspec": {
      "display_name": "Python 3 (ipykernel)",
      "language": "python",
      "name": "python3"
    },
    "language_info": {
      "codemirror_mode": {
        "name": "ipython",
        "version": 3
      },
      "file_extension": ".py",
      "mimetype": "text/x-python",
      "name": "python",
      "nbconvert_exporter": "python",
      "pygments_lexer": "ipython3",
      "version": "3.9.12"
    }
  },
  "nbformat": 4,
  "nbformat_minor": 0
}